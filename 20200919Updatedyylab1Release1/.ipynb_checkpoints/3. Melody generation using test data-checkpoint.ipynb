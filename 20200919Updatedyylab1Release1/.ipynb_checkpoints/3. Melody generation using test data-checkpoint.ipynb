{
 "cells": [
  {
   "cell_type": "code",
   "execution_count": 13,
   "metadata": {},
   "outputs": [],
   "source": [
    "\n",
    "# This notebook is used to generate triplet of music attributes (melody) for lyrics in the test data.\n"
   ]
  },
  {
   "cell_type": "code",
   "execution_count": 12,
   "metadata": {},
   "outputs": [],
   "source": [
    "\n",
    "import numpy as np\n",
    "import tensorflow as tf\n",
    "import midi_statistics\n",
    "import utils\n",
    "import pickle\n",
    "import matplotlib.pyplot as plt\n"
   ]
  },
  {
   "cell_type": "code",
   "execution_count": 7,
   "metadata": {},
   "outputs": [
    {
     "data": {
      "text/plain": [
       "(1051, 460)"
      ]
     },
     "execution_count": 7,
     "metadata": {},
     "output_type": "execute_result"
    }
   ],
   "source": [
    "\n",
    "test_data = np.load('./data/processed_dataset_matrices/test_data_matrix.npy')\n",
    "\n",
    "test_data.shape\n"
   ]
  },
  {
   "cell_type": "code",
   "execution_count": 4,
   "metadata": {},
   "outputs": [
    {
     "name": "stdout",
     "output_type": "stream",
     "text": [
      "WARNING:tensorflow:From <ipython-input-4-02cb4516b494>:7: load (from tensorflow.python.saved_model.loader_impl) is deprecated and will be removed in a future version.\n",
      "Instructions for updating:\n",
      "This function will only be available through the v1 compatibility library as tf.compat.v1.saved_model.loader.load or tf.compat.v1.saved_model.load. There will be a new function for importing SavedModels in Tensorflow 2.0.\n",
      "INFO:tensorflow:Restoring parameters from saved_gan_models/saved_model_best_overall_mmd/variables/variables\n"
     ]
    }
   ],
   "source": [
    "\n",
    "generated_songs = []\n",
    "\n",
    "with tf.Session(graph=tf.Graph()) as sess:\n",
    "\n",
    "    model_path = 'saved_gan_models/saved_model_best_overall_mmd'\n",
    "\n",
    "    tf.saved_model.loader.load(sess, [], model_path)\n",
    "    graph = tf.get_default_graph()\n",
    "    keep_prob = graph.get_tensor_by_name(\"model/keep_prob:0\")\n",
    "    input_metadata = graph.get_tensor_by_name(\"model/input_metadata:0\")\n",
    "    input_songdata = graph.get_tensor_by_name(\"model/input_data:0\")\n",
    "    output_midi = graph.get_tensor_by_name(\"output_midi:0\")\n",
    "    feed_dict = {}\n",
    "    feed_dict[keep_prob.name] = 1\n",
    "    condition = []\n",
    "    feed_dict[input_metadata.name] = condition\n",
    "    \n",
    "    for i in range(len(test_data)):\n",
    "        feed_dict[input_songdata.name] = np.random.uniform(size=(1, 20, 3))\n",
    "        condition.append(np.split(test_data[i][3 * 20:], 20))\n",
    "        feed_dict[input_metadata.name] = condition\n",
    "        generated_features = sess.run(output_midi, feed_dict)\n",
    "        sample = [x[0, :] for x in generated_features]\n",
    "        sample = midi_statistics.tune_song(utils.discretize(sample))\n",
    "        generated_songs.append(sample)\n",
    "        condition = []\n"
   ]
  },
  {
   "cell_type": "code",
   "execution_count": 8,
   "metadata": {},
   "outputs": [
    {
     "data": {
      "text/plain": [
       "(1051, 20, 3)"
      ]
     },
     "execution_count": 8,
     "metadata": {},
     "output_type": "execute_result"
    }
   ],
   "source": [
    "\n",
    "generated_songs = np.asarray(generated_songs)\n",
    "generated_songs.shape\n"
   ]
  },
  {
   "cell_type": "code",
   "execution_count": 9,
   "metadata": {},
   "outputs": [
    {
     "data": {
      "text/plain": [
       "((1051, 20), (1051, 20), (1051, 20))"
      ]
     },
     "execution_count": 9,
     "metadata": {},
     "output_type": "execute_result"
    }
   ],
   "source": [
    "\n",
    "generated_pitches = generated_songs[:, :, 0]\n",
    "generated_lengths = generated_songs[:, :, 1]\n",
    "generated_rests   = generated_songs[:, :, 2]\n",
    "\n",
    "generated_pitches.shape, generated_lengths.shape, generated_rests.shape\n"
   ]
  },
  {
   "cell_type": "code",
   "execution_count": 10,
   "metadata": {},
   "outputs": [],
   "source": [
    "\n",
    "np.save(model_path + '/generated_songs',   generated_songs)\n",
    "np.save(model_path + '/generated_pitches', generated_pitches)\n",
    "np.save(model_path + '/generated_lengths', generated_lengths)\n",
    "np.save(model_path + '/generated_rests',   generated_rests)\n"
   ]
  }
 ],
 "metadata": {
  "kernelspec": {
   "display_name": "Python 3",
   "language": "python",
   "name": "python3"
  },
  "language_info": {
   "codemirror_mode": {
    "name": "ipython",
    "version": 3
   },
   "file_extension": ".py",
   "mimetype": "text/x-python",
   "name": "python",
   "nbconvert_exporter": "python",
   "pygments_lexer": "ipython3",
   "version": "3.7.4"
  }
 },
 "nbformat": 4,
 "nbformat_minor": 2
}
